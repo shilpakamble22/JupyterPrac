{
 "cells": [
  {
   "cell_type": "code",
   "execution_count": 105,
   "id": "ab028075-25e0-4253-8916-ad6e9c396847",
   "metadata": {},
   "outputs": [
    {
     "name": "stdin",
     "output_type": "stream",
     "text": [
      "enter input language: en\n",
      "enter translate to language hin\n",
      "Enter your translate text: you are good\n"
     ]
    }
   ],
   "source": [
    "source1=input(\"enter input language:\")\n",
    "target1=input(\"enter translate to language\")\n",
    "inpText=input(\"Enter your translate text:\")\n",
    "\n"
   ]
  },
  {
   "cell_type": "code",
   "execution_count": 106,
   "id": "5a71b173-1a9c-4dc5-8943-9d037803f041",
   "metadata": {},
   "outputs": [
    {
     "name": "stdout",
     "output_type": "stream",
     "text": [
      "q=you+are+good&source=en&target=hin\n",
      "{\"data\":{\"translations\":[{\"translatedText\":\"आप अच्छे हैं\"}]}}\n",
      "{'data': {'translations': [{'translatedText': 'आप अच्छे हैं'}]}}\n",
      "Here's your translated Text:  आप अच्छे हैं\n"
     ]
    }
   ],
   "source": [
    "import requests\n",
    "import json\n",
    "from urllib.request import urlretrieve\n",
    "from urllib.parse import urlencode\n",
    "from urllib.parse import urlparse\n",
    "url = \"https://google-translate1.p.rapidapi.com/language/translate/v2\"\n",
    "headers = {\n",
    "    'content-type': \"application/x-www-form-urlencoded\",\n",
    "    'accept-encoding': \"application/gzip\",\n",
    "    'x-rapidapi-key': \"366fc309e0mshe9d79cc47504a35p15b3a5jsn96081a858cae\",\n",
    "    'x-rapidapi-host': \"google-translate1.p.rapidapi.com\"\n",
    "    }\n",
    "\n",
    "\n",
    "mydict = {'q': inpText, 'source': source1, 'target': target1}\n",
    "qstr = urlencode(mydict)\n",
    "print(qstr)\n",
    "\n",
    "response1 = requests.request(\"POST\", url, data=qstr, headers=headers)\n",
    "result=response1.text\n",
    "print(result)\n",
    "response_dict = json.loads(result)\n",
    "print(response_dict)\n",
    "respList=response_dict['data']['translations']\n",
    "oupText=respList[0]['translatedText']\n",
    "print(\"Here's your translated Text: \", oupText )\n",
    "\n"
   ]
  },
  {
   "cell_type": "code",
   "execution_count": null,
   "id": "3d09b53a-fb6b-47b4-8770-69f7093d34a5",
   "metadata": {},
   "outputs": [],
   "source": []
  },
  {
   "cell_type": "code",
   "execution_count": null,
   "id": "468c4ca4-4fab-4ff7-8ab8-ae1fadbae9e6",
   "metadata": {},
   "outputs": [],
   "source": []
  },
  {
   "cell_type": "code",
   "execution_count": null,
   "id": "f01495bf-2c6c-49d0-9159-e7e1f2e892d5",
   "metadata": {},
   "outputs": [],
   "source": []
  }
 ],
 "metadata": {
  "kernelspec": {
   "display_name": "Python",
   "language": "python",
   "name": "conda-env-python-py"
  },
  "language_info": {
   "codemirror_mode": {
    "name": "ipython",
    "version": 3
   },
   "file_extension": ".py",
   "mimetype": "text/x-python",
   "name": "python",
   "nbconvert_exporter": "python",
   "pygments_lexer": "ipython3",
   "version": "3.6.13"
  }
 },
 "nbformat": 4,
 "nbformat_minor": 5
}
